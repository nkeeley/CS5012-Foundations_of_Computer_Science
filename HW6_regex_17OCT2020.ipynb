{
 "cells": [
  {
   "cell_type": "markdown",
   "metadata": {},
   "source": [
    "Nicholas G. Keeley, ngk3pf. I consulted the following resources during completion of this assignment: stackexchange, https://docs.python.org/3/library/re.html, https://docs.python.org/3.4/library/re.html.\n"
   ]
  },
  {
   "cell_type": "code",
   "execution_count": 170,
   "metadata": {},
   "outputs": [],
   "source": [
    "import pandas as pd\n",
    "import re"
   ]
  },
  {
   "cell_type": "code",
   "execution_count": 171,
   "metadata": {},
   "outputs": [
    {
     "name": "stdout",
     "output_type": "stream",
     "text": [
      "Yes, possibly.\n",
      "Yes, possibly.\n",
      "Not a social security number.\n",
      "Not a social security number.\n",
      "Yes, possibly.\n",
      "Not a social security number.\n"
     ]
    }
   ],
   "source": [
    "\n",
    "## Question 1.1: Regex that validates social security numbers\n",
    "\n",
    "# Notes: takes in number or hypehened format xxx-xx-xxxx, or some combination of that.\n",
    "\n",
    "\n",
    "# Testing\n",
    "social2 = [\"311-89-1002\", \"123-11-1234\", \"11-11-111\", \"obviously not\", 311891002, 23]\n",
    "social1 = \"143-24-0009\"\n",
    "\n",
    "p = re.compile('[0-9]{3}\\-[0-9]{2}\\-[0-9]{4}|[0-9]{9}')\n",
    "for test in social2:\n",
    "    test=str(test)\n",
    "    result=p.fullmatch(test)\n",
    "    if(result!=None):\n",
    "        print(\"Yes, possibly.\")\n",
    "    else:\n",
    "        print(\"Not a social security number.\")\n"
   ]
  },
  {
   "cell_type": "code",
   "execution_count": 172,
   "metadata": {},
   "outputs": [
    {
     "name": "stdout",
     "output_type": "stream",
     "text": [
      "0    False\n",
      "1    False\n",
      "2    False\n",
      "3    False\n",
      "4     True\n",
      "5    False\n",
      "dtype: boolean\n"
     ]
    }
   ],
   "source": [
    "## Question 1.2: Regex that validates email addresses\n",
    "\n",
    "# Notes: must have an @xxxxxxxxx.com or .gov or .edu\n",
    "\n",
    "\n",
    "# Testing\n",
    "tests = [\"311-89-1002\", \"@dds@virginia.edu\", \"11-11-111\", \"obviously not\", \"n_g$keeley@gmail.com\", \"32@.gov\"]\n",
    "\n",
    "# Make a data frame\n",
    "df = pd.Series(tests, dtype=\"string\")\n",
    "df\n",
    "\n",
    "# Make a regex pattern\n",
    "df2=df.str.match(\"[^@]+@.+\\.(com|edu|gov)\")\n",
    "print(df2)\n"
   ]
  },
  {
   "cell_type": "code",
   "execution_count": 173,
   "metadata": {},
   "outputs": [
    {
     "name": "stdout",
     "output_type": "stream",
     "text": [
      "['@dadfs']\n"
     ]
    }
   ],
   "source": [
    "## Question 1.3: Regex that extracts tweet hashtags, with the \"@\" symbol\n",
    "\n",
    "# Want a regex that identifies singular word connected to @, and then extracts it alone.\n",
    "\n",
    "# Testing\n",
    "tests = [\"311-89-1002\", \"123-11-1234\", \"@\", \"obviously not\",\"@dfd@@\", \"@\", \"@dadfs\" ]\n",
    "\n",
    "\n",
    "p = re.compile('@[^\\s|^@]+')\n",
    "new = []\n",
    "for test in tests:\n",
    "    test=str(test)\n",
    "    result=p.fullmatch(test)\n",
    "    if(result!=None):\n",
    "        new.append(test)\n",
    "print(new)\n",
    "    \n",
    "\n"
   ]
  },
  {
   "cell_type": "code",
   "execution_count": 174,
   "metadata": {},
   "outputs": [
    {
     "name": "stdout",
     "output_type": "stream",
     "text": [
      "Yes, a date.\n",
      "Yes, a date.\n",
      "Yes, a date.\n",
      "Not a date.\n",
      "Yes, a date.\n",
      "Not a date.\n"
     ]
    }
   ],
   "source": [
    "## Question 2.1: Regex that recognizes dates.\n",
    "\n",
    "# Years can be in form 2 digit or 4 digit. Can include years in past and future. \n",
    "\n",
    "# Testing\n",
    "tests = [\"10-02-95\", \"10-02-1995\", \"10-2-95\", \"105-22\", \"10-2-2001\", \"10/02/195\"]\n",
    "\n",
    "\n",
    "p = re.compile('[0-9]{1,2}[\\-|\\/][0-9]{1,2}[\\-|\\/]([0-9]{2}|[0-9]{4})')\n",
    "\n",
    "for test in tests:\n",
    "    result=p.fullmatch(test)\n",
    "    if(result!=None):\n",
    "        print(\"Yes, a date.\")\n",
    "    else:\n",
    "        print(\"Not a date.\")"
   ]
  },
  {
   "cell_type": "code",
   "execution_count": 186,
   "metadata": {},
   "outputs": [
    {
     "name": "stdout",
     "output_type": "stream",
     "text": [
      "(([1-9])|([0-2][0-9])|([3][0-1])) (Jan|Feb|Mar|Apr|May|Jun|Jul|Aug|Sep|Oct|Nov|Dec|January|February|March|April|May|June|July|August|September|October|November|December) (([0-9]{2})|([0-9]{4}))|(Jan|Feb|Mar|Apr|May|Jun|Jul|Aug|Sep|Oct|Nov|Dec|January|February|March|April|May|June|July|August|September|October|November|December) (([1-9])|([0-2][0-9])|([3][0-1]))(\\,)? (([0-9]{2})|([0-9]{4}))\n",
      "Yes, a date.\n"
     ]
    }
   ],
   "source": [
    "## Question 2.2: Regex that recognizes dates in different format\n",
    "\n",
    "tests = [\"February 10, 2000\"]\n",
    "\n",
    "dates= \"(Jan|Feb|Mar|Apr|May|Jun|Jul|Aug|Sep|Oct|Nov|Dec|January|February|March|April|May|June|July|August|September|October|November|December)\"\n",
    "original1 = \"(([1-9])|([0-2][0-9])|([3][0-1])) \" + dates + \" (([0-9]{2})|([0-9]{4}))\"\n",
    "\n",
    "print(original1 + \"|\" + original2)\n",
    "original2 = dates + \" (([1-9])|([0-2][0-9])|([3][0-1]))(\\,)? (([0-9]{2})|([0-9]{4}))\"\n",
    "\n",
    "p = re.compile(original1 + \"|\" + original2)\n",
    "\n",
    "for test in tests:\n",
    "    result=p.fullmatch(test)\n",
    "    if(result!=None):\n",
    "        print(\"Yes, a date.\")\n",
    "    else:\n",
    "        print(\"Not a date.\")"
   ]
  },
  {
   "cell_type": "markdown",
   "metadata": {},
   "source": []
  },
  {
   "cell_type": "code",
   "execution_count": null,
   "metadata": {},
   "outputs": [],
   "source": [
    "\n",
    "\n"
   ]
  },
  {
   "cell_type": "code",
   "execution_count": null,
   "metadata": {},
   "outputs": [],
   "source": []
  },
  {
   "cell_type": "code",
   "execution_count": null,
   "metadata": {},
   "outputs": [],
   "source": []
  },
  {
   "cell_type": "code",
   "execution_count": null,
   "metadata": {},
   "outputs": [],
   "source": []
  },
  {
   "cell_type": "code",
   "execution_count": null,
   "metadata": {},
   "outputs": [],
   "source": []
  }
 ],
 "metadata": {
  "kernelspec": {
   "display_name": "Python 3",
   "language": "python",
   "name": "python3"
  },
  "language_info": {
   "codemirror_mode": {
    "name": "ipython",
    "version": 3
   },
   "file_extension": ".py",
   "mimetype": "text/x-python",
   "name": "python",
   "nbconvert_exporter": "python",
   "pygments_lexer": "ipython3",
   "version": "3.8.3"
  }
 },
 "nbformat": 4,
 "nbformat_minor": 4
}
