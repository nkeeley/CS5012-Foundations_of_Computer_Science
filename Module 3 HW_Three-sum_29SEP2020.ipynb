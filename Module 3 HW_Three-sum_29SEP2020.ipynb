{
 "cells": [
  {
   "cell_type": "code",
   "execution_count": null,
   "metadata": {},
   "outputs": [],
   "source": [
    "class Solution(object):\n",
    "    def threeSum(self, nums):\n",
    "        self.nums = nums\n",
    "        \n",
    "        \n",
    "        \n",
    "        \n",
    "        i=0\n",
    "        answers=[]\n",
    "        \n",
    "        for i in range(i, 3, len(nums)):\n",
    "            for j in range(i+1, len(nums)):  \n",
    "                for k in range(j+1, len(nums)):\n",
    "                    if(nums[i]+ nums[j]+ nums[k] == 0):\n",
    "                        answers.append([nums[i],nums[j], nums[k]])\n",
    "                    \n",
    "        \n",
    "        print(answers)\n",
    "                                        \n",
    "                    \n",
    "    \n",
    "\n",
    "array=[]\n",
    "x=Solution()\n",
    "x.threeSum(array)"
   ]
  }
 ],
 "metadata": {
  "kernelspec": {
   "display_name": "Python 3",
   "language": "python",
   "name": "python3"
  },
  "language_info": {
   "codemirror_mode": {
    "name": "ipython",
    "version": 3
   },
   "file_extension": ".py",
   "mimetype": "text/x-python",
   "name": "python",
   "nbconvert_exporter": "python",
   "pygments_lexer": "ipython3",
   "version": "3.8.3"
  }
 },
 "nbformat": 4,
 "nbformat_minor": 4
}
