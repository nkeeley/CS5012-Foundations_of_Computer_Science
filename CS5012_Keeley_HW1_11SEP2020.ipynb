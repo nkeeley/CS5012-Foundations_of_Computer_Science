{
 "cells": [
  {
   "cell_type": "markdown",
   "metadata": {},
   "source": [
    "*name:*\n",
    "    \n",
    "*computing id:*"
   ]
  },
  {
   "cell_type": "markdown",
   "metadata": {},
   "source": [
    "# Asymptotic Complexity Exercise"
   ]
  },
  {
   "cell_type": "markdown",
   "metadata": {},
   "source": [
    "## Q1\n",
    "Given the following code snippets, provide the time complexity in the form of Big-O notation."
   ]
  },
  {
   "cell_type": "code",
   "execution_count": 3,
   "metadata": {},
   "outputs": [],
   "source": [
    "def measure(inputList):\n",
    "    n = len(inputList)\n",
    "    sum = 0;\n",
    "    for i in range(0, n):\n",
    "        for j in range(0, 5):\n",
    "            sum += j * inputList[i]\n",
    "        for k in range(0, n):\n",
    "            sum -= inputList[k]"
   ]
  },
  {
   "cell_type": "markdown",
   "metadata": {},
   "source": [
    "*The asymptotic complexity of this algorithm is:* $O$ ( _________ )"
   ]
  },
  {
   "cell_type": "code",
   "execution_count": 4,
   "metadata": {},
   "outputs": [],
   "source": [
    "def addElement(ele):\n",
    "    myList =[] \n",
    "    myList.append(666) \n",
    "    print(myList)"
   ]
  },
  {
   "cell_type": "markdown",
   "metadata": {},
   "source": [
    "*The asymptotic complexity of this algorithm is:* $O$ ( _________ )"
   ]
  },
  {
   "cell_type": "code",
   "execution_count": 5,
   "metadata": {},
   "outputs": [],
   "source": [
    "num = 10\n",
    "def addOnesToTestList(num):\n",
    "    testList = []\n",
    "    for i in range(0, num):\n",
    "        testList.append(1)\n",
    "        print(testList)\n",
    "    return testList"
   ]
  },
  {
   "cell_type": "markdown",
   "metadata": {},
   "source": [
    "*The asymptotic complexity of this algorithm is:* $O$ ( _________ )"
   ]
  },
  {
   "cell_type": "code",
   "execution_count": 6,
   "metadata": {},
   "outputs": [],
   "source": [
    "testList = [1, 43, 31, 21, 6, 96, 48, 13, 25, 5]\n",
    "def someMethod(testList):\n",
    "    for i in range(len(testList)):\n",
    "        for j in range(i+1, len(testList)):\n",
    "            if testList[j] < testList[i]:\n",
    "                testList[j], testList[i] = testList[i], testList[j]\n",
    "            print(testList)"
   ]
  },
  {
   "cell_type": "markdown",
   "metadata": {},
   "source": [
    "*The asymptotic complexity of this algorithm is:* $O$ ( _________ )"
   ]
  },
  {
   "cell_type": "code",
   "execution_count": 9,
   "metadata": {},
   "outputs": [],
   "source": [
    "def searchTarget(target_word):\n",
    "    for i in range_1:\n",
    "        for j in range_2:\n",
    "            for k in range_3:\n",
    "                if aList[k] == target_word:\n",
    "                    return 1\n",
    "        return -1\n",
    "    return -1"
   ]
  },
  {
   "cell_type": "markdown",
   "metadata": {},
   "source": [
    "*The asymptotic complexity of this algorithm is:* $O$ ( _________ )"
   ]
  },
  {
   "cell_type": "code",
   "execution_count": 12,
   "metadata": {},
   "outputs": [],
   "source": [
    "def someSearch(sortedList, target):\n",
    "    left = 0\n",
    "    right = len(sortedList) - 1\n",
    "    while (left <= right):\n",
    "        mid = (left + right)/2\n",
    "        if (sortedList(mid) == target):\n",
    "            return mid\n",
    "        elif(sortedList(mid) < target):\n",
    "            left = mid + 1\n",
    "        else:\n",
    "            right = mid - 1\n",
    "    return -1"
   ]
  },
  {
   "cell_type": "markdown",
   "metadata": {},
   "source": [
    "*The asymptotic complexity of this algorithm is:* $O$ ( _________ )"
   ]
  },
  {
   "cell_type": "markdown",
   "metadata": {},
   "source": [
    "## Q2\n",
    "> Using the definition of big-O, prove that if $f_1\\in O(g)$ and $f_2\\in O(g)$; then $f_1+f_2\\in O(g)$."
   ]
  },
  {
   "cell_type": "markdown",
   "metadata": {},
   "source": [
    "*Your answer*"
   ]
  },
  {
   "cell_type": "markdown",
   "metadata": {},
   "source": [
    "## Q3\n",
    "Consider the following functions of $n$:\n",
    "\t\n",
    "\t\n",
    "|$a:2^n$ | $b:2^{n+1}$ | $c:n^{1/(\\lg n)}$ | $d:\\sqrt{2}^{\\lg n}$|\n",
    "| --------------- | --------------- | --------------- | --------------- | \n",
    "|$e:7^n$ | $f:1$ | $g:n^2$ | $h:n$|\n",
    "| --------------- | --------------- | --------------- | --------------- | \n",
    "|$i:\\sqrt{n}$ | $j:\\lg n$ | $k:n!$ | $l:n\\lg n$|\n",
    "\n",
    "\n",
    "Arrange the functions according to ther order of growth, i.e., $f_1\\ge f_2\\ge \\cdots$ if $f_1\\in \\Omega(f_2), \\cdots$  and $f_1 \\equiv f_2$ if $f_1\\in \\Theta =(f_2)$.\n",
    "\t\n",
    "\t"
   ]
  },
  {
   "cell_type": "markdown",
   "metadata": {},
   "source": [
    "## Q4\n",
    "Provide tight bounds of form $\\Theta(f(n))$ for Algorithm"
   ]
  },
  {
   "cell_type": "code",
   "execution_count": 1,
   "metadata": {},
   "outputs": [],
   "source": [
    "x, y = 0, 2\n",
    "for i in range(1,n):\n",
    "    for k in range(1,y):\n",
    "        x = x + y\n",
    "    y = y + y"
   ]
  },
  {
   "cell_type": "markdown",
   "metadata": {},
   "source": [
    "## Q5\n",
    "### 1\n",
    "How many operations does it take to compute sample mean $\\bar{y}$ of $n$\n",
    "data points? What is the complexity of your solution? Include Python implementation."
   ]
  },
  {
   "cell_type": "markdown",
   "metadata": {},
   "source": [
    "*Your answer*"
   ]
  },
  {
   "cell_type": "code",
   "execution_count": 16,
   "metadata": {},
   "outputs": [],
   "source": [
    "#python implementation\n",
    "def avg(nums):\n",
    "    pass"
   ]
  },
  {
   "cell_type": "markdown",
   "metadata": {},
   "source": [
    "### 2\n",
    "Assume you have computed $\\bar{y}$ of $n$\n",
    "data points, now $k$ additional data points are added. What is the least number of operation needed to compute the new sample mean? What is the complexity of your solution? Include Python implementation."
   ]
  },
  {
   "cell_type": "markdown",
   "metadata": {},
   "source": [
    "*Your answer*"
   ]
  },
  {
   "cell_type": "code",
   "execution_count": 20,
   "metadata": {},
   "outputs": [],
   "source": [
    "#python implementation\n",
    "def nextavg (sample_mean, n, B):\n",
    "    pass"
   ]
  },
  {
   "cell_type": "markdown",
   "metadata": {},
   "source": [
    "## Q6\n",
    "Repeat Question 5 for computing sample variance. Include Python implementation."
   ]
  },
  {
   "cell_type": "markdown",
   "metadata": {},
   "source": [
    "*Your answer*"
   ]
  },
  {
   "cell_type": "code",
   "execution_count": null,
   "metadata": {},
   "outputs": [],
   "source": [
    "#python implementation\n",
    "def var(nums):\n",
    "    pass"
   ]
  },
  {
   "cell_type": "code",
   "execution_count": 19,
   "metadata": {},
   "outputs": [],
   "source": [
    "#python implementation\n",
    "def next_var(args):\n",
    "    pass"
   ]
  }
 ],
 "metadata": {
  "kernelspec": {
   "display_name": "Python 3",
   "language": "python",
   "name": "python3"
  },
  "language_info": {
   "codemirror_mode": {
    "name": "ipython",
    "version": 3
   },
   "file_extension": ".py",
   "mimetype": "text/x-python",
   "name": "python",
   "nbconvert_exporter": "python",
   "pygments_lexer": "ipython3",
   "version": "3.7.3"
  },
  "varInspector": {
   "cols": {
    "lenName": 16,
    "lenType": 16,
    "lenVar": 40
   },
   "kernels_config": {
    "python": {
     "delete_cmd_postfix": "",
     "delete_cmd_prefix": "del ",
     "library": "var_list.py",
     "varRefreshCmd": "print(var_dic_list())"
    },
    "r": {
     "delete_cmd_postfix": ") ",
     "delete_cmd_prefix": "rm(",
     "library": "var_list.r",
     "varRefreshCmd": "cat(var_dic_list()) "
    }
   },
   "types_to_exclude": [
    "module",
    "function",
    "builtin_function_or_method",
    "instance",
    "_Feature"
   ],
   "window_display": false
  }
 },
 "nbformat": 4,
 "nbformat_minor": 2
}
