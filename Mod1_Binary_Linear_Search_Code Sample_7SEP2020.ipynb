{
 "cells": [
  {
   "cell_type": "markdown",
   "metadata": {},
   "source": [
    "# Introduction to Binary and Linear Search\n",
    "Based on examples from: Classic Computer Science Problems in Python (David Kopec)"
   ]
  },
  {
   "cell_type": "code",
   "execution_count": 1,
   "metadata": {},
   "outputs": [],
   "source": [
    "# Begin by introducing the gene data"
   ]
  },
  {
   "cell_type": "code",
   "execution_count": 2,
   "metadata": {},
   "outputs": [],
   "source": [
    "from enum import IntEnum\n",
    "from typing import Tuple, List\n",
    "\n",
    "Nucleotide: IntEnum = IntEnum('Nucleotide', ('A', 'C', 'G', 'T'))"
   ]
  },
  {
   "cell_type": "code",
   "execution_count": 3,
   "metadata": {},
   "outputs": [],
   "source": [
    "Codon = Tuple[Nucleotide, Nucleotide, Nucleotide]  # type alias for codons\n",
    "Gene = List[Codon]  # type alias for genes"
   ]
  },
  {
   "cell_type": "markdown",
   "metadata": {},
   "source": [
    "![title](gene.png)"
   ]
  },
  {
   "cell_type": "code",
   "execution_count": 4,
   "metadata": {},
   "outputs": [],
   "source": [
    "gene_str: str = \"ACGTGGCTCTCTAACGTACGTACGTACGGGGTTTATATATACCCTAGGACTCCCTTT\""
   ]
  },
  {
   "cell_type": "code",
   "execution_count": 5,
   "metadata": {},
   "outputs": [],
   "source": [
    "def string_to_gene(s: str) -> Gene:\n",
    "    gene: Gene = []\n",
    "    for i in range(0, len(s), 3):\n",
    "        if (i + 2) >= len(s):  # don't run off end!\n",
    "            return gene\n",
    "        #  initialize codon out of three nucleotides\n",
    "        codon: Codon = (Nucleotide[s[i]], Nucleotide[s[i + 1]], Nucleotide[s[i + 2]])\n",
    "        gene.append(codon)  # add codon to gene\n",
    "    return gene"
   ]
  },
  {
   "cell_type": "code",
   "execution_count": 6,
   "metadata": {},
   "outputs": [],
   "source": [
    "my_gene: Gene = string_to_gene(gene_str)"
   ]
  },
  {
   "cell_type": "code",
   "execution_count": 18,
   "metadata": {},
   "outputs": [
    {
     "data": {
      "text/plain": [
       "[(<Nucleotide.A: 1>, <Nucleotide.C: 2>, <Nucleotide.G: 3>),\n",
       " (<Nucleotide.T: 4>, <Nucleotide.G: 3>, <Nucleotide.G: 3>),\n",
       " (<Nucleotide.C: 2>, <Nucleotide.T: 4>, <Nucleotide.C: 2>),\n",
       " (<Nucleotide.T: 4>, <Nucleotide.C: 2>, <Nucleotide.T: 4>),\n",
       " (<Nucleotide.A: 1>, <Nucleotide.A: 1>, <Nucleotide.C: 2>),\n",
       " (<Nucleotide.G: 3>, <Nucleotide.T: 4>, <Nucleotide.A: 1>),\n",
       " (<Nucleotide.C: 2>, <Nucleotide.G: 3>, <Nucleotide.T: 4>),\n",
       " (<Nucleotide.A: 1>, <Nucleotide.C: 2>, <Nucleotide.G: 3>),\n",
       " (<Nucleotide.T: 4>, <Nucleotide.A: 1>, <Nucleotide.C: 2>),\n",
       " (<Nucleotide.G: 3>, <Nucleotide.G: 3>, <Nucleotide.G: 3>),\n",
       " (<Nucleotide.G: 3>, <Nucleotide.T: 4>, <Nucleotide.T: 4>),\n",
       " (<Nucleotide.T: 4>, <Nucleotide.A: 1>, <Nucleotide.T: 4>),\n",
       " (<Nucleotide.A: 1>, <Nucleotide.T: 4>, <Nucleotide.A: 1>),\n",
       " (<Nucleotide.T: 4>, <Nucleotide.A: 1>, <Nucleotide.C: 2>),\n",
       " (<Nucleotide.C: 2>, <Nucleotide.C: 2>, <Nucleotide.T: 4>),\n",
       " (<Nucleotide.A: 1>, <Nucleotide.G: 3>, <Nucleotide.G: 3>),\n",
       " (<Nucleotide.A: 1>, <Nucleotide.C: 2>, <Nucleotide.T: 4>),\n",
       " (<Nucleotide.C: 2>, <Nucleotide.C: 2>, <Nucleotide.C: 2>),\n",
       " (<Nucleotide.T: 4>, <Nucleotide.T: 4>, <Nucleotide.T: 4>)]"
      ]
     },
     "execution_count": 18,
     "metadata": {},
     "output_type": "execute_result"
    }
   ],
   "source": [
    "my_gene"
   ]
  },
  {
   "cell_type": "markdown",
   "metadata": {},
   "source": [
    "### Linear Search "
   ]
  },
  {
   "cell_type": "markdown",
   "metadata": {},
   "source": [
    "A linear search goes through every element in a search space, in the order of the original data structure, until what is sought is found or the end of the data structure is reached. In effect, a linear search is the most simple, natural, and obvious way to search for something. In the worst case, a linear search will require going through every element in a data structure, so it is of O(n) complexity, where n is the number of elements in the structure. "
   ]
  },
  {
   "cell_type": "markdown",
   "metadata": {},
   "source": [
    "![Linear Search](linear_search.jpg)"
   ]
  },
  {
   "cell_type": "markdown",
   "metadata": {},
   "source": [
    "Linear search goes through every element in a data structure and tests its equivalence for the item being sought."
   ]
  },
  {
   "cell_type": "code",
   "execution_count": 32,
   "metadata": {},
   "outputs": [],
   "source": [
    "def linear_contains(gene: Gene, key_codon: Codon) -> bool:\n",
    "    counter = 1\n",
    "    for codon in gene:\n",
    "        print(counter)\n",
    "        if codon == key_codon:\n",
    "            return True\n",
    "        counter= counter + 1\n",
    "    return False"
   ]
  },
  {
   "cell_type": "code",
   "execution_count": 35,
   "metadata": {},
   "outputs": [
    {
     "name": "stdout",
     "output_type": "stream",
     "text": [
      "1\n",
      "True\n",
      "1\n",
      "2\n",
      "3\n",
      "4\n",
      "5\n",
      "6\n",
      "7\n",
      "8\n",
      "9\n",
      "10\n",
      "11\n",
      "12\n",
      "13\n",
      "14\n",
      "15\n",
      "16\n",
      "17\n",
      "18\n",
      "19\n",
      "False\n"
     ]
    }
   ],
   "source": [
    "acg: Codon = (Nucleotide.A, Nucleotide.C, Nucleotide.G)\n",
    "gat: Codon = (Nucleotide.G, Nucleotide.A, Nucleotide.T)\n",
    "print(linear_contains(my_gene, acg))  # True\n",
    "print(linear_contains(my_gene, gat))  # False"
   ]
  },
  {
   "cell_type": "markdown",
   "metadata": {},
   "source": [
    "### Binary Search"
   ]
  },
  {
   "cell_type": "markdown",
   "metadata": {},
   "source": [
    "If we know that the data is sorted, and we can instatnly access any item within it by the index, we can perform a binary search."
   ]
  },
  {
   "cell_type": "markdown",
   "metadata": {},
   "source": [
    "Binary search works by looking at the middle element of a sorted range of elements, comparing it to the elements sought, reducing by half for the next range and starts the process over again."
   ]
  },
  {
   "cell_type": "markdown",
   "metadata": {},
   "source": [
    "![title](binary.png)"
   ]
  },
  {
   "cell_type": "markdown",
   "metadata": {},
   "source": [
    "For example, let's say we have the sorted list and want to find the entry \"rat\":\n",
    "[cat, dog, kangaroo, llama, rabbit, rat, zebra]"
   ]
  },
  {
   "cell_type": "markdown",
   "metadata": {},
   "source": [
    "1. Determine that middle element is llama\n",
    "2. Determine that rat comes after llama alphabetically, so now we have the list: [rabbit, rat, zebra]\n",
    "3. Our new midpoint is rat, and thus we have found it. "
   ]
  },
  {
   "cell_type": "markdown",
   "metadata": {},
   "source": [
    "Binary search reduces the search space by half, so it has a worst-case run time of O(lg n)."
   ]
  },
  {
   "cell_type": "markdown",
   "metadata": {},
   "source": [
    "However, binary search requires the list to be sorted, which can take O(n lg n) time. "
   ]
  },
  {
   "cell_type": "code",
   "execution_count": 40,
   "metadata": {},
   "outputs": [],
   "source": [
    "def binary_contains(gene: Gene, key_codon: Codon) -> bool:\n",
    "    low: int = 0\n",
    "    high: int = len(gene) - 1\n",
    "   \n",
    "    # start by looking at a range that encompasses the entire list\n",
    "    \n",
    "    while low <= high:  # while there is still a search space (a range to search within)\n",
    "        mid: int = (low + high) // 2  #calculate the midpoint\n",
    "        if gene[mid] < key_codon:  #If element we are looking for is after the middle element,\n",
    "            low = mid + 1          #we modify the range for the next iteration of the loop          \n",
    "        elif gene[mid] > key_codon:\n",
    "            high = mid - 1       # same thing with the other end, we change loop for next iter\n",
    "        else:\n",
    "            return True\n",
    "    return False"
   ]
  },
  {
   "cell_type": "code",
   "execution_count": 41,
   "metadata": {},
   "outputs": [],
   "source": [
    "my_sorted_gene: Gene = sorted(my_gene)"
   ]
  },
  {
   "cell_type": "code",
   "execution_count": 42,
   "metadata": {},
   "outputs": [
    {
     "data": {
      "text/plain": [
       "[(<Nucleotide.A: 1>, <Nucleotide.A: 1>, <Nucleotide.C: 2>),\n",
       " (<Nucleotide.A: 1>, <Nucleotide.C: 2>, <Nucleotide.G: 3>),\n",
       " (<Nucleotide.A: 1>, <Nucleotide.C: 2>, <Nucleotide.G: 3>),\n",
       " (<Nucleotide.A: 1>, <Nucleotide.C: 2>, <Nucleotide.T: 4>),\n",
       " (<Nucleotide.A: 1>, <Nucleotide.G: 3>, <Nucleotide.G: 3>),\n",
       " (<Nucleotide.A: 1>, <Nucleotide.T: 4>, <Nucleotide.A: 1>),\n",
       " (<Nucleotide.C: 2>, <Nucleotide.C: 2>, <Nucleotide.C: 2>),\n",
       " (<Nucleotide.C: 2>, <Nucleotide.C: 2>, <Nucleotide.T: 4>),\n",
       " (<Nucleotide.C: 2>, <Nucleotide.G: 3>, <Nucleotide.T: 4>),\n",
       " (<Nucleotide.C: 2>, <Nucleotide.T: 4>, <Nucleotide.C: 2>),\n",
       " (<Nucleotide.G: 3>, <Nucleotide.G: 3>, <Nucleotide.G: 3>),\n",
       " (<Nucleotide.G: 3>, <Nucleotide.T: 4>, <Nucleotide.A: 1>),\n",
       " (<Nucleotide.G: 3>, <Nucleotide.T: 4>, <Nucleotide.T: 4>),\n",
       " (<Nucleotide.T: 4>, <Nucleotide.A: 1>, <Nucleotide.C: 2>),\n",
       " (<Nucleotide.T: 4>, <Nucleotide.A: 1>, <Nucleotide.C: 2>),\n",
       " (<Nucleotide.T: 4>, <Nucleotide.A: 1>, <Nucleotide.T: 4>),\n",
       " (<Nucleotide.T: 4>, <Nucleotide.C: 2>, <Nucleotide.T: 4>),\n",
       " (<Nucleotide.T: 4>, <Nucleotide.G: 3>, <Nucleotide.G: 3>),\n",
       " (<Nucleotide.T: 4>, <Nucleotide.T: 4>, <Nucleotide.T: 4>)]"
      ]
     },
     "execution_count": 42,
     "metadata": {},
     "output_type": "execute_result"
    }
   ],
   "source": [
    "my_sorted_gene"
   ]
  },
  {
   "cell_type": "code",
   "execution_count": 43,
   "metadata": {},
   "outputs": [
    {
     "name": "stdout",
     "output_type": "stream",
     "text": [
      "True\n"
     ]
    }
   ],
   "source": [
    "print(binary_contains(my_sorted_gene, acg)) # True"
   ]
  },
  {
   "cell_type": "code",
   "execution_count": 44,
   "metadata": {},
   "outputs": [
    {
     "name": "stdout",
     "output_type": "stream",
     "text": [
      "False\n"
     ]
    }
   ],
   "source": [
    "print(binary_contains(my_sorted_gene, gat)) # True"
   ]
  },
  {
   "cell_type": "code",
   "execution_count": null,
   "metadata": {},
   "outputs": [],
   "source": []
  }
 ],
 "metadata": {
  "kernelspec": {
   "display_name": "Python 3",
   "language": "python",
   "name": "python3"
  },
  "language_info": {
   "codemirror_mode": {
    "name": "ipython",
    "version": 3
   },
   "file_extension": ".py",
   "mimetype": "text/x-python",
   "name": "python",
   "nbconvert_exporter": "python",
   "pygments_lexer": "ipython3",
   "version": "3.8.3"
  }
 },
 "nbformat": 4,
 "nbformat_minor": 2
}
