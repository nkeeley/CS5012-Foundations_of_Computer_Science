{
 "cells": [
  {
   "cell_type": "markdown",
   "metadata": {},
   "source": [
    "Ngk3pf, Nicholas Keeley\n",
    "\n",
    "I compared my answers with Geoff Hansen and Will Blickle, after finishing the homework myself. I received help on the networkx portion of this assignment from Geoff Hansen. Because of Konnect website issues, he sent me downloaded versions of the txt data files he used. I attempted to code the graph myself using the add_edgelist and add_adjlist functions in nx, but they did not work. I consulted his code, was prompted to consider running the txt file line by line, and found a similar but different way to construct a graph."
   ]
  },
  {
   "cell_type": "markdown",
   "metadata": {},
   "source": [
    "## Question 1: Adjacency Matrix\n",
    "\n",
    "*Complexity of Get function:* If we visualize our tree as an adjacency matrix with i rows and j columns, with each entry representing whether there is an edge between the ith and jth node, we can easily see that the diagonal values in the matrix would all be 0 (distance between a node and itself is 0). For this reason, the Get function for an ith and jth node would examine one (i,j) pair to determine if an edge exists in the best case scenario and one pair in the worst case scenario. Therefore, this function would ultimately yield a complexity of $\\theta(1)$.\n",
    "\n",
    "*Complexity of Add function:* Assuming this function only adds edges between two vertices/nodes, then the function would only have to visit the (i, j) term and the (j, i) term in the matrix. This represents the best and worst case scenarios encountered by the function. Therefore, the complexity of this function appears to be $\\theta(1)$.\n",
    "\n",
    "*Complexity of AllFrom function:* Essentially, this function would be checking an individual row or column in the matrix and examining i-1 or j-1 values. This represents the best and worst case scenarios of the function. Therefore, the complexity of this function is $\\theta(n)$.\n",
    "\n",
    "\n",
    "\n",
    "\n",
    "\n",
    "\n",
    "\n"
   ]
  },
  {
   "cell_type": "markdown",
   "metadata": {},
   "source": [
    "## Question 2: Adjacency List\n",
    "\n",
    "*Complexity of Get function:* An implemented adjacency list is essentially a linked list. Therefore, in order to determine if an edge between an ith and jth node exists, the function would examine n-1 nodes in the worst case scenario, and only 1 node in the best case scenario (the node has no children). Therefore, the complexity of this function is $\\theta(n)$.\n",
    "\n",
    "*Complexity of Add function:* In order to add a value to the end of a linked list, the complexity of this function would be $\\theta(1)$.\n",
    "\n",
    "*Complexity of AllFrom function:* In order to return the list of edges for an ith node, this function would have to examine n-1 nodes in the worst case scenario, and 1 node in the best case scenario. Therefore, the function yields a complexity of $\\theta(n)$. Of note, this representation of a graph contains duplicate edges, but the worst case scenario would still require n-1 examinations.\n",
    "\n"
   ]
  },
  {
   "cell_type": "markdown",
   "metadata": {},
   "source": [
    "## Question 3: Edge List\n",
    "\n",
    "*Complexity of Get function:* In order to determine whether an edge exists within an edge list, the function would have to traverse the array of edge pairs. In the best case scenario, the number of examinations would be 1. In the worst case, the number of examinations would be n number of edges. Therefore, this function yields a complexity of $\\theta(n)$.\n",
    "\n",
    "*Complexity of Add function:* In order to add a value to the end of a edge list, the complexity of this function would be constant. Therefore, the function yields a complexity of $\\theta(1)$.\n",
    "\n",
    "*Complexity of AllFrom function:* Since an edge list contains all edge pairs only once, this function would have to examine n edge pairs, as well as each element within the pair. Therefore, this function yields a complexity of $\\theta(n)$, where n = the number of edges.\""
   ]
  }
 ],
 "metadata": {
  "kernelspec": {
   "display_name": "Python 3",
   "language": "python",
   "name": "python3"
  },
  "language_info": {
   "codemirror_mode": {
    "name": "ipython",
    "version": 3
   },
   "file_extension": ".py",
   "mimetype": "text/x-python",
   "name": "python",
   "nbconvert_exporter": "python",
   "pygments_lexer": "ipython3",
   "version": "3.8.3"
  }
 },
 "nbformat": 4,
 "nbformat_minor": 4
}
