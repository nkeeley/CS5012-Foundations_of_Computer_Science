{
 "cells": [
  {
   "cell_type": "markdown",
   "metadata": {},
   "source": [
    "*name:* Nicholas Keeley\n",
    "\n",
    "*computing id:* ngk3pf\n",
    "\n",
    "I talked about this code conceptually with Rowan Rice (mar7dh), Patrick Corbett (pjc8cq), Krissy North (kn3gs), Gabby Belmarez (gb6ux), Drew Pearson (dp6tk), and Geoff Hansen (gmh9he). Rowan Rice helped me trace my recursive calls, and both Patrick and Rowan collaborated with me to figure out the best way to arrive at base cases for our search algorithm."
   ]
  },
  {
   "cell_type": "markdown",
   "metadata": {},
   "source": [
    "# Preamble\n",
    "We want to write an algorithm that given a non-decreasing array $A[1..n]$, and a number $x$, returns a number $q$ that partitions $A$ along $x$. That is:\n",
    "\n",
    "- if $i\\in 1..n$ satisfies $i\\le q$ then $A[i]\\le x$, and\n",
    "\n",
    "- if $i\\in 1..n$ satisfies $i>q$ then $A[i]>x$.\n",
    "\n",
    "For example, if $A[1..6]$ is given by [$2$ , $4$ , $5$ , $5$ , $8$ , $9$] then\n",
    "\n",
    "- if $x=5$ or $x =6$ or $x=7$ then $q=4$ must be returned (indexing starts from $1$ here)\n",
    "\n",
    "- if $x = 4$ then $q=2$ must be returned\n",
    "\n",
    "- if $x=3$ or $x=2$ then $q=1$ must be returned\n",
    "\n",
    "- if $x=1$ then $q=0$ must be returned\n",
    "\n",
    "use the following test suite for your algorithms in questions 1 and 2"
   ]
  },
  {
   "cell_type": "code",
   "execution_count": 5,
   "metadata": {},
   "outputs": [],
   "source": [
    "class Test:\n",
    "    def __init__(self, x, array, expected_q):\n",
    "        self.x = x\n",
    "        self.array = array\n",
    "        self.expected_q = expected_q\n",
    "\n",
    "tests = [\n",
    "         # partition value  # array              # partition location\n",
    "    # walk a list\n",
    "    Test(1,                 [2, 4, 5, 5, 8, 9],  0), # from homework\n",
    "    Test(2,                 [2, 4, 5, 5, 8, 9],  1), # .\n",
    "    Test(3,                 [2, 4, 5, 5, 8, 9],  1), # .\n",
    "    Test(4,                 [2, 4, 5, 5, 8, 9],  2), # .\n",
    "    Test(5,                 [2, 4, 5, 5, 8, 9],  4), # .\n",
    "    Test(6,                 [2, 4, 5, 5, 8, 9],  4), # .\n",
    "    Test(7,                 [2, 4, 5, 5, 8, 9],  4), # .\n",
    "    Test(8,                 [2, 4, 5, 5, 8, 9],  5), # my test cases\n",
    "    Test(9,                 [2, 4, 5, 5, 8, 9],  6), # .\n",
    "    Test(10,                [2, 4, 5, 5, 8, 9],  6), # .\n",
    "    # walk a list - odd number of elements\n",
    "    Test(1,                 [2, 4, 5, 5, 8],  0), # .\n",
    "    Test(2,                 [2, 4, 5, 5, 8],  1), # .\n",
    "    Test(3,                 [2, 4, 5, 5, 8],  1), # .\n",
    "    Test(4,                 [2, 4, 5, 5, 8],  2), # .\n",
    "    Test(5,                 [2, 4, 5, 5, 8],  4), # .\n",
    "    Test(6,                 [2, 4, 5, 5, 8],  4), # .\n",
    "    Test(7,                 [2, 4, 5, 5, 8],  4), # .\n",
    "    Test(8,                 [2, 4, 5, 5, 8],  5), # .\n",
    "    Test(9,                 [2, 4, 5, 5, 8],  5), # .\n",
    "    \n",
    "    # we exceed all values, so partition at last value\n",
    "    Test(100,               [1, 20],             2), # .\n",
    "    # zero-length array (normally, we'd throw an exception)\n",
    "    Test(2,                 [],                  0), # .\n",
    "    # lots of repeats\n",
    "    Test(3,                 [3, 3, 3, 3, 3, 3, 5, 5, 5, 5, 5], 6)\n",
    "]"
   ]
  },
  {
   "cell_type": "code",
   "execution_count": 6,
   "metadata": {},
   "outputs": [],
   "source": [
    "def run_tests(f):\n",
    "    \"\"\" Execute tests \"\"\"\n",
    "    passingcount = 0\n",
    "    failures = []\n",
    "    for test in tests:    \n",
    "        actual_q = f(test.x, test.array)\n",
    "        if(test.expected_q != actual_q):\n",
    "            failures.append( \\\n",
    "                f\"Test failed for x={test.x} A={test.array}: got {actual_q} but expected {test.expected_q}\" \\\n",
    "            )\n",
    "            print(\"E\", end=\"\")\n",
    "        else:\n",
    "            print(\".\", end=\"\")\n",
    "            passingcount += 1\n",
    "    print()\n",
    "    print(f\"{passingcount} / {len(tests)} test succeeded.\")\n",
    "    if(len(failures) > 0):\n",
    "        print(\"Failures:\")\n",
    "        for error in failures:\n",
    "            print(f\"   {error}\")\n"
   ]
  },
  {
   "cell_type": "markdown",
   "metadata": {},
   "source": [
    "# Q1\n",
    "Design an iterative algorithm (pseudocode + Python implementation), based on the binary search principle to implement the specification."
   ]
  },
  {
   "cell_type": "markdown",
   "metadata": {},
   "source": [
    "Pseducode:\n",
    "\n",
    "* Let n = the length of A\n",
    "* Check initial conditions:\n",
    "  * If input array is size 0, return 0.\n",
    "  * If target is greater than or equal to the largest value in array, then return index largest value.\n",
    "  * If target is less than first value in array, then return 0.\n",
    "* Set low pointer to index 0.\n",
    "* Set high pointer to index n-1.\n",
    "* Set mid pointer to the index of floor of middle index between high and low pointers.\n",
    "* While mid pointer is not equal to the high pointer:\n",
    "  * If target is greater than or equal to the mid point index value, then set low pointer with mid pointer index, and new mid point is the middle index between high and low pointers.\n",
    "  * If target is less than the mid point index value, then set high pointer with mid pointer index, and new mid point is the middle index between high and low pointers.\n",
    "* Assign the answer as the middle pointer index, and return the answer.\n",
    "  "
   ]
  },
  {
   "cell_type": "code",
   "execution_count": 12,
   "metadata": {},
   "outputs": [],
   "source": [
    "# Python implementation\n",
    "import math\n",
    "\n",
    "def find_partition_iter(x, A):\n",
    "    \n",
    "    # Check initial conditions to see if partition is at the ends of the array.\n",
    "    n = len(A) # Initialize variable for length of array A.\n",
    "    \n",
    "    if(len(A)==0):\n",
    "        return 0\n",
    "    if(A[n-1]<=x):\n",
    "        return n\n",
    "    if(A[0]> x):\n",
    "        return 0\n",
    "\n",
    "    \n",
    "    # Partition is within the array. Find the partition within the array. +1 index at end.\n",
    "    low_p = 0\n",
    "    high_p = n-1\n",
    "    mid_p = math.ceil((high_p + low_p)/2)\n",
    "    \n",
    "    # Test\n",
    "    #print(low_p)\n",
    "    #print(high_p)\n",
    "    #print(mid_p)\n",
    "    \n",
    "    ## Breaks out of while loop when mid_p and high_p overlap.\n",
    "    while(mid_p != high_p):\n",
    "        \n",
    "        # If target value is greater than value at mid_p, go higher.\n",
    "        if(x>=A[mid_p]):\n",
    "            low_p = mid_p\n",
    "            mid_p = math.ceil((low_p+high_p)/2)\n",
    "            \n",
    "            # Test\n",
    "            #print(low_p)\n",
    "            #print(high_p)\n",
    "            #print(mid_p)\n",
    "        \n",
    "        if(x<A[mid_p]):\n",
    "            high_p = mid_p\n",
    "            mid_p = math.ceil((low_p+high_p)/2)\n",
    "\n",
    "            # Test\n",
    "            #print(low_p)\n",
    "            #print(high_p)\n",
    "            #print(mid_p)\n",
    "    \n",
    "    ans = mid_p\n",
    "    return ans\n",
    "        \n",
    "        #mid_p = high_p\n",
    "        \n",
    "## Main.\n",
    "\n",
    "#A = [2, 4, 5, 5, 8, 9]\n",
    "#find_partition_iter(2, A)"
   ]
  },
  {
   "cell_type": "code",
   "execution_count": 13,
   "metadata": {},
   "outputs": [
    {
     "name": "stdout",
     "output_type": "stream",
     "text": [
      "......................\n",
      "22 / 22 test succeeded.\n"
     ]
    }
   ],
   "source": [
    "# run tests\n",
    "run_tests(find_partition_iter)"
   ]
  },
  {
   "cell_type": "markdown",
   "metadata": {},
   "source": [
    "## Q2\n",
    "Write a recursive algorithm (pseudocode + Python implementation) to implement the specification."
   ]
  },
  {
   "cell_type": "markdown",
   "metadata": {},
   "source": [
    "Pseudo-code\n",
    "\n",
    "* Let n = the length of A\n",
    "* Check initial conditions:\n",
    "  * If input array is size 0, return 0.\n",
    "  * If target is greater than or equal to the largest value in array, then return index largest value.\n",
    "  * If target is less than first value in array, then return 0.\n",
    "* Set low pointer to index 0.\n",
    "* Set high pointer to index n-1.\n",
    "* Set mid pointer to the index of floor of middle index between high and low pointers.\n",
    "* Initiate recursion, using pointers, target, and array as arguments:\n",
    "  * (Base case reached) If middle pointer is equal to high pointer, assign middle pointer index as answer and return answer.\n",
    "  * If target is greater than or equal to the mid point index value, then set low pointer with mid pointer index, and new mid point is the middle index between high and low pointers. Initiate another level of recursion, returning answer of this recursive call.\n",
    "  * If target is less than the mid point index value, then set high pointer with mid pointer index, and new mid point is the middle index between high and low pointers. Initiate another level of recursion, returning answer of this recursive call.\n",
    "  \n",
    "\n"
   ]
  },
  {
   "cell_type": "code",
   "execution_count": 9,
   "metadata": {},
   "outputs": [],
   "source": [
    "# Python implementation\n",
    "def find_partition_recursive(x, A):\n",
    "    \n",
    "    # Check initial conditions to see if partition is at the ends of the array.\n",
    "    n = len(A) # Initialize variable for length of array A.\n",
    "    \n",
    "    # Check base cases.\n",
    "    if(n == 0):\n",
    "        return 0\n",
    "    if(A[n-1]<=x):\n",
    "        return n\n",
    "    if(A[0]> x):\n",
    "        return 0\n",
    "\n",
    "    \n",
    "    # Partition is within the array. Find the partition within the array. +1 index at end.\n",
    "    low_p = 0\n",
    "    high_p = n-1\n",
    "    mid_p = math.ceil((high_p + low_p)/2)\n",
    "    \n",
    "    result = iterate(low_p, high_p, mid_p, x, A)\n",
    "    return result\n",
    "\n",
    "def iterate(low_p, high_p, mid_p, x, A):\n",
    "        \n",
    "    if(mid_p == high_p):\n",
    "        ans = mid_p\n",
    "\n",
    "    elif(x>=A[mid_p]):\n",
    "        low_p = mid_p\n",
    "        mid_p = math.ceil((low_p+high_p)/2)\n",
    "        ans = iterate(low_p, high_p, mid_p, x, A)\n",
    "\n",
    "    elif(x<A[mid_p]):\n",
    "        high_p = mid_p\n",
    "        mid_p = math.ceil((low_p+high_p)/2)\n",
    "        ans = iterate(low_p, high_p, mid_p, x, A)\n",
    "    \n",
    "    return ans"
   ]
  },
  {
   "cell_type": "code",
   "execution_count": 10,
   "metadata": {},
   "outputs": [
    {
     "name": "stdout",
     "output_type": "stream",
     "text": [
      "......................\n",
      "22 / 22 test succeeded.\n"
     ]
    }
   ],
   "source": [
    "run_tests(find_partition_recursive)"
   ]
  },
  {
   "cell_type": "markdown",
   "metadata": {},
   "source": [
    "## Q3\n",
    "Write down a recurrence that describes the running time of your program in Q2, and solve the recurrence using the ``Master Theorem''."
   ]
  },
  {
   "cell_type": "markdown",
   "metadata": {},
   "source": [
    "*proof:* Generic recurrence relation: $T(n) \\le aT(\\frac{n}{b})+O(n^d)$, where \"a\" is the number of recursions, \"b\" is the factor by which problem size decreases at each recursive level, and \"d\" is the highest order complexity occurring outside of the recursion. If$a=b^d$, then T(n) = $O(n^dlgn)$. If $a<b^d$, then T(n) = $O(n^d)$. If $a>b^d$, then T(n) = $O(n^{log_b{a}})$.\n",
    "\n",
    "The recurrence relation for my program is $T(n) \\le 1*T(\\frac{n}{2})+O(n^0)$. Because $1=2^0$, therefore the complexity of T(n) is $O(lgn)$."
   ]
  },
  {
   "cell_type": "markdown",
   "metadata": {},
   "source": [
    "# The rest of the notebook is for your own testing:"
   ]
  },
  {
   "cell_type": "code",
   "execution_count": null,
   "metadata": {},
   "outputs": [],
   "source": [
    "# playing with the code\n",
    "import random\n",
    "import time\n",
    "\n",
    "\n",
    "def run_trials(f, n, numTrials):\n",
    "    \"\"\" Run numTrials of f with list of size n.  Return the average time taken. \"\"\"\n",
    "    total_time = 0\n",
    "    for _ in range(numTrials):\n",
    "        (x, array) = gen_trial(n)\n",
    "        start = time.time()\n",
    "        f(x, array)\n",
    "        total_time += time.time() - start\n",
    "    return total_time / numTrials\n",
    "\n",
    "def gen(n):\n",
    "    \"\"\" Generate a list of size n from 1..2n.  Duplicates are allowed.  The result is in nondecreasing order. \"\"\"\n",
    "    l = list(map(lambda x: random.randint(1, 2*n), range(n)))\n",
    "    l.sort()\n",
    "    return l\n",
    "\n",
    "def gen_trial(n):\n",
    "    \"\"\" Return an (x, array) tuple. \"\"\"\n",
    "    array = gen(n)\n",
    "    # pick a value in the array\n",
    "    # we can get an outlier for cases where A[n] is picked.\n",
    "    x = random.choice(array)\n",
    "    if n > 1 and x == array[n-1]:\n",
    "        # try again\n",
    "        return gen_trial(n)\n",
    "    return (x, array)\n",
    "\n",
    "\n",
    "n = 1\n",
    "durations = []\n",
    "for i in range(8, 17):\n",
    "    n = 2 ** i\n",
    "    for i in range(1):\n",
    "        duration = run_trials(find_partition_recursive, n, 100)\n",
    "        durations.append([n, duration])\n",
    "        print(f\"n = {n:-30} - duration: {duration}\")\n",
    "print(\"done\")    \n"
   ]
  },
  {
   "cell_type": "code",
   "execution_count": null,
   "metadata": {},
   "outputs": [],
   "source": [
    "import matplotlib.pyplot as plt\n",
    "import math\n",
    "scale = durations[0][1]\n",
    "x = [d[0] for d in durations]\n",
    "y = [d[1]/scale for d in durations]\n",
    "plt.scatter(x, y)\n",
    "plt.show()"
   ]
  }
 ],
 "metadata": {
  "kernelspec": {
   "display_name": "Python 3",
   "language": "python",
   "name": "python3"
  },
  "language_info": {
   "codemirror_mode": {
    "name": "ipython",
    "version": 3
   },
   "file_extension": ".py",
   "mimetype": "text/x-python",
   "name": "python",
   "nbconvert_exporter": "python",
   "pygments_lexer": "ipython3",
   "version": "3.8.3"
  },
  "varInspector": {
   "cols": {
    "lenName": 16,
    "lenType": 16,
    "lenVar": 40
   },
   "kernels_config": {
    "python": {
     "delete_cmd_postfix": "",
     "delete_cmd_prefix": "del ",
     "library": "var_list.py",
     "varRefreshCmd": "print(var_dic_list())"
    },
    "r": {
     "delete_cmd_postfix": ") ",
     "delete_cmd_prefix": "rm(",
     "library": "var_list.r",
     "varRefreshCmd": "cat(var_dic_list()) "
    }
   },
   "types_to_exclude": [
    "module",
    "function",
    "builtin_function_or_method",
    "instance",
    "_Feature"
   ],
   "window_display": false
  }
 },
 "nbformat": 4,
 "nbformat_minor": 2
}
