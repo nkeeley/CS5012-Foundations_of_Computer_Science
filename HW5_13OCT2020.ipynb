{
 "cells": [
  {
   "cell_type": "markdown",
   "metadata": {},
   "source": [
    "ngk3pf, Nicholas Keeley.\n",
    "\n",
    "I worked on this project with Rowan Rice and Patrick Corbett. We referenced Bradley Katchur's slides from office hours to guide us through the pseudocode and methodology for implementing HeapSort in Python, but also utilized the CLRS book for reference."
   ]
  },
  {
   "cell_type": "code",
   "execution_count": 69,
   "metadata": {},
   "outputs": [
    {
     "name": "stdout",
     "output_type": "stream",
     "text": [
      "[1, 2, 3, 4, 7, 8, 9, 10, 14, 16]\n"
     ]
    }
   ],
   "source": [
    "def HeapSort(A):\n",
    "    BuildMaxheap(A)\n",
    "    for i in range(len(A)-1, 0, -1):\n",
    "        A[0], A[i] = A[i], A[0]\n",
    "        maxHeapify(A, 0, i-1)\n",
    "    \n",
    "def BuildMaxheap(A):\n",
    "\n",
    "    for i in range((int(len(A)/2)), -1, -1):\n",
    "        maxHeapify(A, i)\n",
    "    \n",
    "def maxHeapify(A,i, size=None):\n",
    "    \n",
    "    # Point to left and right children, based on index 0.\n",
    "    lc_ind = (2*i)+1\n",
    "    rc_ind = (2*i)+2\n",
    "    \n",
    "    # Default largest index is the input idnex\n",
    "    largest_ind = i\n",
    "    \n",
    "    # Constrain boundaries of this function to the length of array.\n",
    "    if size is None:\n",
    "        size = len(A)-1\n",
    "    \n",
    "    # Testing\n",
    "\n",
    "    \n",
    "    # If left child index value is greater than initial index, reset largest_ind to larger value\n",
    "    if(lc_ind <= size and A[lc_ind] > A[i]):\n",
    "\n",
    "        largest_ind = lc_ind\n",
    "\n",
    "    if(rc_ind <= size and A[rc_ind] > A[largest_ind]):\n",
    "\n",
    "        largest_ind = rc_ind\n",
    "\n",
    "    \n",
    "    if largest_ind != i:\n",
    "\n",
    "        A[i], A[largest_ind] = A[largest_ind], A[i]\n",
    "\n",
    "        maxHeapify(A, largest_ind,size)\n",
    "        \n",
    "        \n",
    "    \n",
    "\n",
    "    \n",
    "\n",
    "\n",
    "## Main\n",
    "A=[8,10,16,4,9,7,14,1,2,3]\n",
    "\n",
    "HeapSort(A)\n",
    "print(A)"
   ]
  },
  {
   "cell_type": "markdown",
   "metadata": {},
   "source": [
    "MergeSort, QuickSort, and HeapSort all have an expected complexity of O(n lg n). Therefore, when compared, they have equivalent expected complexity (reference: CLRS 170, 153, and 1027)."
   ]
  }
 ],
 "metadata": {
  "kernelspec": {
   "display_name": "Python 3",
   "language": "python",
   "name": "python3"
  },
  "language_info": {
   "codemirror_mode": {
    "name": "ipython",
    "version": 3
   },
   "file_extension": ".py",
   "mimetype": "text/x-python",
   "name": "python",
   "nbconvert_exporter": "python",
   "pygments_lexer": "ipython3",
   "version": "3.8.3"
  }
 },
 "nbformat": 4,
 "nbformat_minor": 4
}
