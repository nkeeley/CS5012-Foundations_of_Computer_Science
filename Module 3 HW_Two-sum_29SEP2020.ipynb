{
 "cells": [
  {
   "cell_type": "code",
   "execution_count": 1,
   "metadata": {},
   "outputs": [
    {
     "data": {
      "text/plain": [
       "(0, 1)"
      ]
     },
     "execution_count": 1,
     "metadata": {},
     "output_type": "execute_result"
    }
   ],
   "source": [
    "class Solution(object):\n",
    "    def twoSum(self, nums, target):\n",
    "        \n",
    "        # Constructor\n",
    "        self.nums = nums\n",
    "        self.target = target\n",
    "        \n",
    "        # Create hash table via dictionary.\n",
    "        dh={}\n",
    "        \n",
    "        ## Create counter and pointer to values in array.\n",
    "        for i,x in enumerate(nums):\n",
    "            \n",
    "            # Create a complement of the target to search for.\n",
    "            comp = target - x\n",
    "            \n",
    "            # Check base case: if complement is already within hash table.\n",
    "            if(comp in dh):\n",
    "                dh[x]=i\n",
    "                return dh[comp], dh[x]\n",
    "            \n",
    "            else:\n",
    "                dh[x]=i\n",
    "            \n",
    "            \n",
    "   \n",
    "\n",
    "x= Solution()\n",
    "x.twoSum([2,7,11,15],9)\n"
   ]
  }
 ],
 "metadata": {
  "kernelspec": {
   "display_name": "Python 3",
   "language": "python",
   "name": "python3"
  },
  "language_info": {
   "codemirror_mode": {
    "name": "ipython",
    "version": 3
   },
   "file_extension": ".py",
   "mimetype": "text/x-python",
   "name": "python",
   "nbconvert_exporter": "python",
   "pygments_lexer": "ipython3",
   "version": "3.8.3"
  }
 },
 "nbformat": 4,
 "nbformat_minor": 4
}
