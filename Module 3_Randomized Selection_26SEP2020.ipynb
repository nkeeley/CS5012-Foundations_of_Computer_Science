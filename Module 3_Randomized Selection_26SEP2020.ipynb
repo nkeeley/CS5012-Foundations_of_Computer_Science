{
 "cells": [
  {
   "cell_type": "markdown",
   "metadata": {},
   "source": [
    "Nicholas G. Keeley\n",
    "Computing ID: ngk3pf\n",
    "\n",
    "I completed this assignment by consulting the CLRS textbook and Geoff Hansen. Rowan Rice and I traced the Randomized Selection code prior to coding, but each of us developed our own syntax. Geoff helped talk me through the conceptual understanding behind Two-sum and Three-sum. Finally, I consulted the provided Leetcode descriptions and solution tab description to gain a theoretical understanding of the code. Once again, I developed my own syntax."
   ]
  },
  {
   "cell_type": "code",
   "execution_count": 1,
   "metadata": {},
   "outputs": [
    {
     "name": "stdout",
     "output_type": "stream",
     "text": [
      "run array: [2, 8, 7, 1, 3, 5, 6, 4]\n",
      "p (bottom of array)1\n",
      "r (top of array)8\n",
      "i (target)4\n",
      "randomized jth value index 6\n",
      "[2, 8, 7, 1, 3, 4, 6, 5]\n",
      "this is q: 4\n"
     ]
    },
    {
     "data": {
      "text/plain": [
       "7"
      ]
     },
     "execution_count": 1,
     "metadata": {},
     "output_type": "execute_result"
    }
   ],
   "source": [
    "# p: starting pointer of array\n",
    "# r: ending pointer of array\n",
    "# A: array\n",
    "# i: target jth value\n",
    "\n",
    "import random\n",
    "\n",
    "def partition(A, p, r):\n",
    "    \n",
    "    ## Tested these and they yield correct values.\n",
    "    r = r-1 # Pythonify the last index.\n",
    "    x = A[r] # Set x to the value at last index in array.\n",
    "    p = p-1 # Pythonify the first index\n",
    "    i = p-1 # Set target pointer to index -1\n",
    "    j = p # j is your \"test\" pointer. Set at p.\n",
    "    temp = 0 # Placeholder for exchanges\n",
    "    \n",
    "    # print(x, i, j)\n",
    "    #print(A)\n",
    "    \n",
    "    ## Iterate through values.\n",
    "    for j in range(j,r): ## Occurs r-1 times O(n) in worst case scenario.\n",
    "        \n",
    "        if(A[j] <= x):\n",
    "            \n",
    "            i = i+1\n",
    "            ## Exchange the jth term with the ith term.\n",
    "            temp = A[i]\n",
    "            A[i]=A[j]\n",
    "            A[j]= temp\n",
    "            \n",
    "            #print(A)\n",
    "            #print(\"i is at \", i)\n",
    "            #print(\"j is at \", j)\n",
    "            #print(\"r is at \", r)\n",
    "            #i = i+1\n",
    "    ## Return the index for the pivot value.\n",
    "    #temp = A[i] \n",
    "    #A[i+1]=A[j]\n",
    "    #A[j]= temp\n",
    "    return i+1\n",
    "\n",
    "## Randomized-Selection\n",
    "def randomized_partition(A,p,r):\n",
    "    \n",
    "\n",
    "    i = random.randint(p, r)\n",
    "    print(\"randomized jth value index \" + str(i))\n",
    "\n",
    "    #print(A)\n",
    "    \n",
    "    ## Exchange the jth term with the ith term.\n",
    "    temp = A[i-1]\n",
    "    A[i-1]=A[r-1]\n",
    "    A[r-1]= temp\n",
    "    \n",
    "    #print(i)\n",
    "    print(A)\n",
    "    \n",
    "    return partition(A,p,r) # Everything in this function has complexity O(1), but partition has complexity O(n) in worst case.\n",
    "\n",
    "def randomized_selection(A,p,r,i):\n",
    "    \n",
    "    ## Base case\n",
    "    if p == r:\n",
    "        return A[p]\n",
    "    \n",
    "    print(\"run array: \" + str(A))\n",
    "    print(\"p (bottom of array)\" + str(p))\n",
    "    print(\"r (top of array)\" + str(r))\n",
    "    print(\"i (target)\" + str(i))\n",
    "    \n",
    "    q = randomized_partition(A, p, r) # Choosing the partition value (index). O(n).\n",
    "    print(\"this is q: \" + str(q))\n",
    "    k=q-p+1\n",
    "    if(i==k): # pivot value is the answer\n",
    "        return A[q]\n",
    "    elif i < k:\n",
    "        return randomized_selection(A, p, q-1, i)\n",
    "    else:\n",
    "        return randomized_selection(A, q+1, r, i-k)\n",
    "\n",
    "\n",
    "\n",
    "\n",
    "## Main\n",
    "A=[2,8,7,1,3,5,6,4]\n",
    "#A=[2]\n",
    "randomized_selection(A,1,len(A),4)\n",
    "\n"
   ]
  },
  {
   "cell_type": "markdown",
   "metadata": {},
   "source": [
    "#### Complexity discussion: \n",
    "\n",
    "In the worst case scenario, this algorithm appears to have a worst case complexity of $O(n^2)$. This would be true if the array were being sorted throughout the recursion, since randomized_partition/partition have a complexity of O(n), and these functions would run for every value in the array. However, randomized_selection achieves an expected complexity of O(n) because it avoids sorting the array of values and instead manages to compare them along continuous, randomly changing partitions. "
   ]
  },
  {
   "cell_type": "code",
   "execution_count": 325,
   "metadata": {},
   "outputs": [
    {
     "data": {
      "text/plain": [
       "(0, 1)"
      ]
     },
     "execution_count": 325,
     "metadata": {},
     "output_type": "execute_result"
    }
   ],
   "source": [
    "class Solution(object):\n",
    "    def twoSum(self, nums, target):\n",
    "        \n",
    "        # Constructor\n",
    "        self.nums = nums\n",
    "        self.target = target\n",
    "        \n",
    "        # Create hash table via dictionary.\n",
    "        dh={}\n",
    "        \n",
    "        ## Create counter and pointer to values in array.\n",
    "        for i,x in enumerate(nums):\n",
    "            \n",
    "            # Create a complement of the target to search for.\n",
    "            comp = target - x\n",
    "            \n",
    "            # Check base case: if complement is already within hash table.\n",
    "            if(comp in dh):\n",
    "                dh[x]=i\n",
    "                return dh[comp], dh[x]\n",
    "            \n",
    "            else:\n",
    "                dh[x]=i\n",
    "            \n",
    "            \n",
    "   \n",
    "\n",
    "x= Solution()\n",
    "x.twoSum([2,7,11,15],9)\n"
   ]
  },
  {
   "cell_type": "code",
   "execution_count": 326,
   "metadata": {},
   "outputs": [
    {
     "ename": "ValueError",
     "evalue": "range() arg 3 must not be zero",
     "output_type": "error",
     "traceback": [
      "\u001b[1;31m---------------------------------------------------------------------------\u001b[0m",
      "\u001b[1;31mValueError\u001b[0m                                Traceback (most recent call last)",
      "\u001b[1;32m<ipython-input-326-9c392f001c57>\u001b[0m in \u001b[0;36m<module>\u001b[1;34m\u001b[0m\n\u001b[0;32m     23\u001b[0m \u001b[0marray\u001b[0m\u001b[1;33m=\u001b[0m\u001b[1;33m[\u001b[0m\u001b[1;33m]\u001b[0m\u001b[1;33m\u001b[0m\u001b[1;33m\u001b[0m\u001b[0m\n\u001b[0;32m     24\u001b[0m \u001b[0mx\u001b[0m\u001b[1;33m=\u001b[0m\u001b[0mSolution\u001b[0m\u001b[1;33m(\u001b[0m\u001b[1;33m)\u001b[0m\u001b[1;33m\u001b[0m\u001b[1;33m\u001b[0m\u001b[0m\n\u001b[1;32m---> 25\u001b[1;33m \u001b[0mx\u001b[0m\u001b[1;33m.\u001b[0m\u001b[0mthreeSum\u001b[0m\u001b[1;33m(\u001b[0m\u001b[0marray\u001b[0m\u001b[1;33m)\u001b[0m\u001b[1;33m\u001b[0m\u001b[1;33m\u001b[0m\u001b[0m\n\u001b[0m",
      "\u001b[1;32m<ipython-input-326-9c392f001c57>\u001b[0m in \u001b[0;36mthreeSum\u001b[1;34m(self, nums)\u001b[0m\n\u001b[0;32m      9\u001b[0m         \u001b[0manswers\u001b[0m\u001b[1;33m=\u001b[0m\u001b[1;33m[\u001b[0m\u001b[1;33m]\u001b[0m\u001b[1;33m\u001b[0m\u001b[1;33m\u001b[0m\u001b[0m\n\u001b[0;32m     10\u001b[0m \u001b[1;33m\u001b[0m\u001b[0m\n\u001b[1;32m---> 11\u001b[1;33m         \u001b[1;32mfor\u001b[0m \u001b[0mi\u001b[0m \u001b[1;32min\u001b[0m \u001b[0mrange\u001b[0m\u001b[1;33m(\u001b[0m\u001b[0mi\u001b[0m\u001b[1;33m,\u001b[0m \u001b[1;36m3\u001b[0m\u001b[1;33m,\u001b[0m \u001b[0mlen\u001b[0m\u001b[1;33m(\u001b[0m\u001b[0mnums\u001b[0m\u001b[1;33m)\u001b[0m\u001b[1;33m)\u001b[0m\u001b[1;33m:\u001b[0m\u001b[1;33m\u001b[0m\u001b[1;33m\u001b[0m\u001b[0m\n\u001b[0m\u001b[0;32m     12\u001b[0m             \u001b[1;32mfor\u001b[0m \u001b[0mj\u001b[0m \u001b[1;32min\u001b[0m \u001b[0mrange\u001b[0m\u001b[1;33m(\u001b[0m\u001b[0mi\u001b[0m\u001b[1;33m+\u001b[0m\u001b[1;36m1\u001b[0m\u001b[1;33m,\u001b[0m \u001b[0mlen\u001b[0m\u001b[1;33m(\u001b[0m\u001b[0mnums\u001b[0m\u001b[1;33m)\u001b[0m\u001b[1;33m)\u001b[0m\u001b[1;33m:\u001b[0m\u001b[1;33m\u001b[0m\u001b[1;33m\u001b[0m\u001b[0m\n\u001b[0;32m     13\u001b[0m                 \u001b[1;32mfor\u001b[0m \u001b[0mk\u001b[0m \u001b[1;32min\u001b[0m \u001b[0mrange\u001b[0m\u001b[1;33m(\u001b[0m\u001b[0mj\u001b[0m\u001b[1;33m+\u001b[0m\u001b[1;36m1\u001b[0m\u001b[1;33m,\u001b[0m \u001b[0mlen\u001b[0m\u001b[1;33m(\u001b[0m\u001b[0mnums\u001b[0m\u001b[1;33m)\u001b[0m\u001b[1;33m)\u001b[0m\u001b[1;33m:\u001b[0m\u001b[1;33m\u001b[0m\u001b[1;33m\u001b[0m\u001b[0m\n",
      "\u001b[1;31mValueError\u001b[0m: range() arg 3 must not be zero"
     ]
    }
   ],
   "source": [
    "class Solution(object):\n",
    "    def threeSum(self, nums):\n",
    "        self.nums = nums\n",
    "        \n",
    "        \n",
    "        \n",
    "        \n",
    "        i=0\n",
    "        answers=[]\n",
    "        \n",
    "        for i in range(i, 3, len(nums)):\n",
    "            for j in range(i+1, len(nums)):  \n",
    "                for k in range(j+1, len(nums)):\n",
    "                    if(nums[i]+ nums[j]+ nums[k] == 0):\n",
    "                        answers.append([nums[i],nums[j], nums[k]])\n",
    "                    \n",
    "        \n",
    "        print(answers)\n",
    "                                        \n",
    "                    \n",
    "    \n",
    "\n",
    "array=[]\n",
    "x=Solution()\n",
    "x.threeSum(array)"
   ]
  }
 ],
 "metadata": {
  "kernelspec": {
   "display_name": "Python 3",
   "language": "python",
   "name": "python3"
  },
  "language_info": {
   "codemirror_mode": {
    "name": "ipython",
    "version": 3
   },
   "file_extension": ".py",
   "mimetype": "text/x-python",
   "name": "python",
   "nbconvert_exporter": "python",
   "pygments_lexer": "ipython3",
   "version": "3.8.3"
  }
 },
 "nbformat": 4,
 "nbformat_minor": 4
}
