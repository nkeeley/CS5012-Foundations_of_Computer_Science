{
 "cells": [
  {
   "cell_type": "code",
   "execution_count": 10,
   "metadata": {},
   "outputs": [],
   "source": [
    "import math\n",
    "import random\n",
    "import numpy as np\n",
    "import matplotlib.pyplot as plt"
   ]
  },
  {
   "cell_type": "code",
   "execution_count": 19,
   "metadata": {},
   "outputs": [
    {
     "name": "stdout",
     "output_type": "stream",
     "text": [
      "4\n",
      "2.23606797749979\n",
      "[<__main__.Point object at 0x0000023D34BE5580>, <__main__.Point object at 0x0000023D34BEE3D0>, <__main__.Point object at 0x0000023D34BEE340>, <__main__.Point object at 0x0000023D34BEE490>, <__main__.Point object at 0x0000023D34BEE220>]\n"
     ]
    }
   ],
   "source": [
    "# class to handle points concisely\n",
    "class Point():\n",
    "    \n",
    "    def __init__(self, x, y):\n",
    "        self.x = x\n",
    "        self.y = y\n",
    "        \n",
    "    # for testing\n",
    "    def __str__(self):\n",
    "        return '(' + str(self.x) + ', ' + str(self.y) + ')'\n",
    "    \n",
    "# standalone distance method\n",
    "def distance(p1, p2):\n",
    "    return math.sqrt((p1.x-p2.x)**2 + (p1.y-p2.y)**2) ## O(1) complexity.\n",
    "\n",
    "# This is only used to help make the plot for visualization\n",
    "def break_coords(pts):\n",
    "    x = []\n",
    "    y = []\n",
    "    for i in pts:\n",
    "        x.append(i.x)\n",
    "        y.append(i.y)\n",
    "    return x,y\n",
    "\n",
    "# generate random points from uniform distribution\n",
    "def generate(n):\n",
    "    points = []\n",
    "    for i in range(n):\n",
    "        x = round(random.uniform(0, 2*n),2)\n",
    "        y = round(random.uniform(0, 2*n),2)\n",
    "        points.append(Point(x,y))\n",
    "    return points\n",
    "\n",
    "pt1 = Point(3, 4)\n",
    "print(pt1.y)\n",
    "pt2=Point(2,2)\n",
    "print(distance(pt1, pt2))\n",
    "array=generate(5)"
   ]
  },
  {
   "cell_type": "code",
   "execution_count": 22,
   "metadata": {},
   "outputs": [],
   "source": [
    "# exhaustive (brute force) search\n",
    "def exhaustive(pts):\n",
    "    n = len(pts)\n",
    "    min_dist = float('inf')\n",
    "    close_pair = None\n",
    "    for i in range(n):\n",
    "        for j in range(i+1, n):\n",
    "            current_dist = distance(pts[i],pts[j]) ## Running O(1) complexity function n*(n-1) times == O(n^2)\n",
    "            if(current_dist < min_dist):\n",
    "                min_dist = current_dist\n",
    "                close_pair = (pts[i], pts[j])\n",
    "    return [close_pair[0], close_pair[1], min_dist]"
   ]
  },
  {
   "cell_type": "code",
   "execution_count": 31,
   "metadata": {},
   "outputs": [
    {
     "data": {
      "text/plain": [
       "<matplotlib.collections.PathCollection at 0x23d356673d0>"
      ]
     },
     "execution_count": 31,
     "metadata": {},
     "output_type": "execute_result"
    },
    {
     "data": {
      "image/png": "[encoded data removed]",
      "text/plain": [
       "<Figure size 432x288 with 1 Axes>"
      ]
     },
     "metadata": {
      "needs_background": "light"
     },
     "output_type": "display_data"
    }
   ],
   "source": [
    "random.seed(101)\n",
    "points = generate(10)\n",
    "# conduct basic search\n",
    "results = exhaustive(points)\n",
    "# extract output\n",
    "close_pair = results[0:2]\n",
    "dist = results[2]\n",
    "# use these color values for a plot to check visually\n",
    "colors = [(1,0,0) if x in close_pair else (0,0,1) for x in points]\n",
    "# plot results\n",
    "pts_x, pts_y = break_coords(points)\n",
    "plt.scatter(pts_x, pts_y, s=10, c=colors)"
   ]
  },
  {
   "cell_type": "code",
   "execution_count": 33,
   "metadata": {},
   "outputs": [],
   "source": [
    "# inputs are lists of the same points\n",
    "# one sorted by x, one sorted by y\n",
    "def closestHelper(pts_x, pts_y):\n",
    "    \n",
    "    # if 3 or fewer points, conduct brute force search\n",
    "    # normally this is O(n^2) but we limit n here\n",
    "    n = len(pts_x)\n",
    "    if n <= 3:\n",
    "        return exhaustive(pts_x)\n",
    "    \n",
    "    # establish a middle index and midpoint for x-values\n",
    "    mid = n // 2\n",
    "    mid_point = pts_x[mid]\n",
    "    \n",
    "    # split the y points based on which side of the middle x they fall\n",
    "    # this guarantees that the y lists will match later x lists\n",
    "    # also preserves ordering of points by y\n",
    "    pts_left_y = []\n",
    "    pts_right_y = []\n",
    "    for i in pts_y:\n",
    "        if i.x < mid_point.x:\n",
    "            pts_left_y.append(i)\n",
    "        else:\n",
    "            pts_right_y.append(i)\n",
    "    \n",
    "    # recursive call to left and right sides based on middle x-value\n",
    "    result_l = closestHelper(pts_x[:mid], pts_left_y)\n",
    "    result_r = closestHelper(pts_x[mid:], pts_right_y)\n",
    "\n",
    "    # store only the minimum out of left and right results\n",
    "    # split into if/else to allow storing the closest pair of points as well as distance\n",
    "    if result_l[2] < result_r[2]: # Comparing distances of point pairs.\n",
    "        p1 = result_l[0]\n",
    "        p2 = result_l[1]\n",
    "        min_dist = result_l[2]\n",
    "    else:\n",
    "        p1 = result_r[0]\n",
    "        p2 = result_r[1]\n",
    "        min_dist = result_r[2]\n",
    "    \n",
    "    # create the central strip that contains the points we want to check across the midline\n",
    "    # keep points within current min distance of middle x-value\n",
    "    # still preserving ordering by y\n",
    "    strip_y = []\n",
    "    for i in pts_y:\n",
    "        if abs(i.x - mid_point.x) < min_dist:\n",
    "            strip_y.append(i)\n",
    "    \n",
    "    # go through strip and make comparisons for points across line\n",
    "    # looks like it could be O(n^2) but sparsity principle guarantees at most\n",
    "    # 6 comparisons for each point considered\n",
    "    # note that while loop stops when difference in y exceeds current known minimum\n",
    "    for i in range(len(strip_y)-1):\n",
    "        j = i+1\n",
    "        while j < len(strip_y) and strip_y[i].y-strip_y[j].y < min_dist:\n",
    "            if distance(strip_y[i], strip_y[j]) < min_dist:\n",
    "                min_dist = distance(strip_y[i], strip_y[j])\n",
    "                p1 = strip_y[i]\n",
    "                p2 = strip_y[j]\n",
    "            j += 1\n",
    "    \n",
    "    # return the two closest points and their distance\n",
    "    return [p1, p2, min_dist]\n"
   ]
  },
  {
   "cell_type": "code",
   "execution_count": 34,
   "metadata": {},
   "outputs": [],
   "source": [
    "# main function to call for doing the search\n",
    "# this function only sorts the points by x and y\n",
    "# then calls to recursive helper\n",
    "def closestPair(pts):\n",
    "    \n",
    "    sorted_x = sorted(pts, key = lambda p: p.x)\n",
    "    sorted_y = sorted(pts, key = lambda p: p.y)\n",
    "    \n",
    "    return closestHelper(sorted_x, sorted_y)"
   ]
  },
  {
   "cell_type": "code",
   "execution_count": 311,
   "metadata": {},
   "outputs": [],
   "source": [
    "# empirical testing to show it is working by comparing to \n",
    "# brute force search many times\n",
    "# if it prints nothing then everything was right\n",
    "for i in range(100):\n",
    "    for j in range(1,50):\n",
    "        data = generate(11)\n",
    "        min1 = round(exhaustive(data)[2], 3)\n",
    "        min2 = round(closestPair(data)[2], 3)\n",
    "        if (min1 != min2):\n",
    "            print(str(min1) + ' : ' + str(min2))\n",
    "            break"
   ]
  },
  {
   "cell_type": "code",
   "execution_count": 43,
   "metadata": {},
   "outputs": [
    {
     "name": "stdout",
     "output_type": "stream",
     "text": [
      "(37.86, 1.74)\n",
      "(2.27, 0.1)\n",
      "(5.02, 39.45)\n",
      "(33.41, 36.67)\n",
      "(7.45, 27.51)\n",
      "(31.81, 29.08)\n",
      "(10.79, 38.83)\n",
      "(29.13, 27.37)\n",
      "(11.38, 15.89)\n",
      "(30.31, 20.65)\n",
      "(19.52, 36.79)\n",
      "(16.82, 34.36)\n",
      "(1.87, 21.22)\n",
      "(28.52, 0.43)\n",
      "(27.85, 11.44)\n",
      "(25.03, 24.93)\n",
      "(5.46, 37.75)\n",
      "(9.7, 5.46)\n",
      "(17.71, 2.56)\n",
      "(4.05, 30.46)\n",
      "X sorted\n",
      "(1.87, 21.22)\n",
      "(2.27, 0.1)\n",
      "(4.05, 30.46)\n",
      "(5.02, 39.45)\n",
      "(5.46, 37.75)\n",
      "(7.45, 27.51)\n",
      "(9.7, 5.46)\n",
      "(10.79, 38.83)\n",
      "(11.38, 15.89)\n",
      "(16.82, 34.36)\n",
      "(17.71, 2.56)\n",
      "(19.52, 36.79)\n",
      "(25.03, 24.93)\n",
      "(27.85, 11.44)\n",
      "(28.52, 0.43)\n",
      "(29.13, 27.37)\n",
      "(30.31, 20.65)\n",
      "(31.81, 29.08)\n",
      "(33.41, 36.67)\n",
      "(37.86, 1.74)\n",
      "Y sorted\n",
      "(2.27, 0.1)\n",
      "(28.52, 0.43)\n",
      "(37.86, 1.74)\n",
      "(17.71, 2.56)\n",
      "(9.7, 5.46)\n",
      "(27.85, 11.44)\n",
      "(11.38, 15.89)\n",
      "(30.31, 20.65)\n",
      "(1.87, 21.22)\n",
      "(25.03, 24.93)\n",
      "(29.13, 27.37)\n",
      "(7.45, 27.51)\n",
      "(31.81, 29.08)\n",
      "(4.05, 30.46)\n",
      "(16.82, 34.36)\n",
      "(33.41, 36.67)\n",
      "(19.52, 36.79)\n",
      "(5.46, 37.75)\n",
      "(10.79, 38.83)\n",
      "(5.02, 39.45)\n"
     ]
    },
    {
     "data": {
      "text/plain": [
       "<matplotlib.collections.PathCollection at 0x23d3683b640>"
      ]
     },
     "execution_count": 43,
     "metadata": {},
     "output_type": "execute_result"
    },
    {
     "data": {
      "image/png": "[encoded data removed]",
      "text/plain": [
       "<Figure size 432x288 with 1 Axes>"
      ]
     },
     "metadata": {
      "needs_background": "light"
     },
     "output_type": "display_data"
    }
   ],
   "source": [
    "# just another plotting tool for final algorithm\n",
    "data = generate(20)\n",
    "\n",
    "sorted_x = sorted(data, key = lambda p: p.x)\n",
    "sorted_y = sorted(data, key = lambda p: p.y)\n",
    "for i in range(len(data)):\n",
    "    print(data[i])\n",
    "print(\"X sorted\")\n",
    "for i in range(len(data)):\n",
    "    print(sorted_x[i])\n",
    "print(\"Y sorted\")\n",
    "for i in range(len(data)):\n",
    "    print(sorted_y[i])\n",
    "    \n",
    "\n",
    "\n",
    "results = closestPair(data)\n",
    "close_pair = results[0:2]\n",
    "\n",
    "dist = results[2]\n",
    "colors = [(1,0,0) if x in close_pair else (0,0,1) for x in data]\n",
    "pts_x, pts_y = break_coords(data)\n",
    "plt.scatter(pts_x, pts_y, s=10, c=colors)"
   ]
  }
 ],
 "metadata": {
  "kernelspec": {
   "display_name": "Python 3",
   "language": "python",
   "name": "python3"
  },
  "language_info": {
   "codemirror_mode": {
    "name": "ipython",
    "version": 3
   },
   "file_extension": ".py",
   "mimetype": "text/x-python",
   "name": "python",
   "nbconvert_exporter": "python",
   "pygments_lexer": "ipython3",
   "version": "3.8.3"
  }
 },
 "nbformat": 4,
 "nbformat_minor": 4
}
