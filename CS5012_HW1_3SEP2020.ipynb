{
 "cells": [
  {
   "cell_type": "markdown",
   "metadata": {},
   "source": [
    "name:\n",
    "\n",
    "computing id:"
   ]
  },
  {
   "cell_type": "markdown",
   "metadata": {},
   "source": [
    "# Logic, Sets, Functions and Relations\n",
    "- Analyze the meanings of predicates\n",
    "- Convert logical formulas to and from English sentences\n",
    "- Analyze logical formulas\n",
    "- Describe and explain sets and set-elements\n",
    "- Identify and analyze functions and relations"
   ]
  },
  {
   "cell_type": "markdown",
   "metadata": {},
   "source": [
    "## Q1\n",
    "Given the following predicates and their meanings\n",
    "\n",
    "-   $P(x,y) : x > y$\n",
    "-   $Q(x,y) : x \\le y$\n",
    "-   $R(x) : x-7 = 2$\n",
    "-   $S(x) : x > 9$\n",
    "\n",
    "\n",
    ">If the universe of discourse is the real numbers, give the truth value (true or false) of each of the following propositions:\n",
    "\n",
    "1.  $(\\exists x) R(x)$ \n",
    "\n",
    "2.\t$(\\forall y)[\\neg S(y)]$\n",
    "\n",
    "3.\t$(\\forall x)(\\exists y)P(x,y)$\n",
    "\n",
    "4.\t$(\\exists y)(\\forall x)Q(x,y)$\n",
    "\n",
    "5.\t$(\\forall x)( \\forall y)[P(x,y) \\vee Q(x,y)]$\n",
    "\n",
    "6.\t$(\\exists x) S(x) \\wedge \\neg(\\forall x) R(x)$\n",
    "\n",
    "7.\t$(\\exists y\\forall x)[S(y) \\wedge Q(x,y)]$\n",
    "\n",
    "8.\t$(\\forall x)( \\forall y)[{R(x) \\wedge S(y)} \\rightarrow Q(x,y)]$\n"
   ]
  },
  {
   "cell_type": "markdown",
   "metadata": {},
   "source": [
    "*Your answer:*"
   ]
  },
  {
   "cell_type": "markdown",
   "metadata": {},
   "source": [
    "## Q2\n",
    ">Which of the following sentences has the logical form $(p \\wedge q) \\rightarrow r$?\n",
    "\n",
    "1. If you don’t attend the wedding, then Sam will be angry with you\n",
    "\n",
    "2. Matt is happy and so are Sam and Fae\n",
    "\n",
    "3. If it rains and it snows then flooding will result\n",
    "\n",
    "4. Students will play football or students will play soccer; but they will not attend classes\n",
    "\n",
    "5. Gene is smart and strong, additionally he is a good swimmer \n"
   ]
  },
  {
   "cell_type": "markdown",
   "metadata": {},
   "source": [
    "*Your answer:*"
   ]
  },
  {
   "cell_type": "markdown",
   "metadata": {},
   "source": [
    "## Q3 \n",
    "- $p$ means     There are no fruit in the market \n",
    "- $q$ means     Farmers didn’t plant fruit trees \n",
    "- $r$ means     Farmers didn’t water the trees\n",
    "\n",
    "\n",
    ">Which of the following formulas represents the sentence, “If there are no fruit in the market then the farmers didn’t plant fruit trees or the farmers didn’t water the trees”\n",
    "\n",
    "1. $\\neg p \\rightarrow q$\n",
    "\n",
    "\n",
    "2. $p \\rightarrow q \\vee r$\n",
    "\n",
    "\n",
    "3. $(p \\rightarrow q) \\vee \\neg r$\n",
    "\n",
    "\n",
    "4. $p \\rightarrow q \\vee     \\neg r$\n",
    "\n",
    "\n",
    "5. $p \\vee q \\rightarrow     \\neg r$"
   ]
  },
  {
   "cell_type": "markdown",
   "metadata": {},
   "source": [
    "*Your answer:*"
   ]
  },
  {
   "cell_type": "markdown",
   "metadata": {},
   "source": [
    "## Q4 \n",
    ">Show $[p\\wedge (p \\rightarrow q)] \\rightarrow q$ is a tautology.\n"
   ]
  },
  {
   "cell_type": "markdown",
   "metadata": {},
   "source": [
    "*Your answer:*"
   ]
  },
  {
   "cell_type": "markdown",
   "metadata": {},
   "source": [
    "# Propositional Logic\n",
    "The following exercises give you a chance to refresh your knowledge and test your understanding of some of the basic concepts of Propositional Logic."
   ]
  },
  {
   "cell_type": "markdown",
   "metadata": {},
   "source": [
    "\n",
    "## Q1 \n",
    "Which of the following propositional formula(s) represent(s) the sentence,\n",
    "\n",
    "“Tim will go to Charlottesville or Tim will go to Fairfax; if the former, he will visit our classroom”.\n",
    "> Let the three atomic propositions above be $p$, $q$, & $r$\n",
    "\n",
    "1. $p\\rightarrow q\\wedge r$\n",
    "\n",
    "2. $p \\wedge q \\rightarrow r$\n",
    "\n",
    "3. $(p\\rightarrow q) \\wedge (p\\wedge r)$\n",
    "\n",
    "4. $p \\vee \\neg q\\rightarrow r$\n",
    "\n",
    "5. $(p \\vee q) \\wedge (p \\rightarrow r)$."
   ]
  },
  {
   "cell_type": "markdown",
   "metadata": {},
   "source": [
    "*Your answer:*"
   ]
  },
  {
   "cell_type": "markdown",
   "metadata": {},
   "source": [
    "## Q2\n",
    "> Which of the following sentences has the logical form $(p \\wedge q) \\rightarrow r$\n",
    "\n",
    "1. If the baby is crying then you can’t sleep\n",
    "\n",
    "2. My students are smart and hardworking\n",
    "\n",
    "3. Jane will go by bus but Tom will walk\n",
    "\n",
    "4. If the sky is clear or the moon is full then night driving will be safe\n",
    "\n",
    "5. If our team wins and all the students get A+ grades then everyone will be happy."
   ]
  },
  {
   "cell_type": "markdown",
   "metadata": {},
   "source": [
    "*Your answer:*"
   ]
  },
  {
   "cell_type": "markdown",
   "metadata": {},
   "source": [
    "## Q3\n",
    "A = The field is flooded\n",
    "\n",
    "B = It rained 22 inches\n",
    "\n",
    "C = The plants will die\n",
    "> Make propositions from A, B and C to match the following:\n",
    "\n",
    "1. $A\\vee B$: *``The field is flooded or it rained 22 inches (or both)''*.\n",
    "\n",
    "2. $A\\wedge B$: *Your answer*\n",
    "\n",
    "3. $B \\rightarrow A$: *Your answer*\n",
    "\n",
    "4. $(A\\wedge B)\\rightarrow C$: *Your answer*\n",
    "\n",
    "5. $(A \\vee B) \\rightarrow C$: *Your answer*\n",
    "\n",
    "6. $(\\neg A \\wedge \\neg B) \\rightarrow \\neg C$: *Your answer* "
   ]
  },
  {
   "cell_type": "markdown",
   "metadata": {},
   "source": [
    "## Q4:\n",
    "> Why an atomic proposition can’t be a tautology?"
   ]
  },
  {
   "cell_type": "markdown",
   "metadata": {},
   "source": [
    "*Your answer:*"
   ]
  },
  {
   "cell_type": "markdown",
   "metadata": {},
   "source": [
    "## Q5\n",
    "Given: \n",
    "\n",
    "A= Kat met Clayton\n",
    "\n",
    "\n",
    "B= Kat and Clayton had coffee together\n",
    "\n",
    "\n",
    "C= Kat and Clayton went swimming\n",
    ">Present the following as symbolic formulas.\n",
    "\n",
    "1. Kat and Clayton had a cup of coffee then went swimming\n",
    "\n",
    "2. Kat met Clayton then they had a cup of coffee and went swimming\n"
   ]
  },
  {
   "cell_type": "markdown",
   "metadata": {},
   "source": [
    "*Your answer:*"
   ]
  },
  {
   "cell_type": "markdown",
   "metadata": {},
   "source": [
    "## Q5\n",
    "\n",
    "> Is this proposition a tautology: $B \\rightarrow \\neg (\\neg B)$\n"
   ]
  },
  {
   "cell_type": "markdown",
   "metadata": {},
   "source": [
    "*Your answer:*"
   ]
  },
  {
   "cell_type": "markdown",
   "metadata": {},
   "source": [
    "# Relations and Functions"
   ]
  },
  {
   "cell_type": "markdown",
   "metadata": {},
   "source": [
    "## Q1\n",
    "Using the sets below of students and test scores (highest grade = 100), write out the\n",
    "expression, domain, range, and codomain.\n",
    "\n",
    "![title](StudentTest.png)"
   ]
  },
  {
   "cell_type": "markdown",
   "metadata": {},
   "source": [
    "*Your answer:*"
   ]
  },
  {
   "cell_type": "markdown",
   "metadata": {},
   "source": [
    "## Q2\n",
    "Let $S$ be the set of students at UVA, let $M$ be the set of sporting events\n",
    "at UVA, and let $V(s;m)$ be \"student $s$ has been to $m$.\" Rewrite each of the\n",
    "following statements without using the symbol $\\forall$, and $\\exists$, or variables.\n",
    "\n",
    "1. $\\exists s|S$ such that $V(s$; Basketball)\n",
    "\n",
    "2. $\\forall s|S$, $V(s; Football)$\n",
    "\n",
    "3. $\\forall s|S$, $\\forall m\\in M$ such that $V(s,m)$\n",
    "\n",
    "4. $\\exists m\\in M$, such that $\\forall s\\in S$, $V(s,m)$"
   ]
  },
  {
   "cell_type": "markdown",
   "metadata": {},
   "source": [
    "*Your answer:*"
   ]
  },
  {
   "cell_type": "markdown",
   "metadata": {},
   "source": [
    "## Q3\n",
    "For each of the following relations on the set {5, 6, 7, 8} decided whether it is reflexive,\n",
    "symmetric, and/or transitive. Which of these are equivalence relations?\n",
    "\n",
    "1. {(6,6), (6,7), (6,8), (7,6), (7,7), (7,8)}\n",
    "\n",
    "2. {(5,5), (5,6), (6,5), (6,6), (7,7), (8,8)}\n",
    "\n",
    "3. {(6,8), (8,6)}"
   ]
  },
  {
   "cell_type": "markdown",
   "metadata": {},
   "source": [
    "*Your answer:*"
   ]
  },
  {
   "cell_type": "markdown",
   "metadata": {},
   "source": [
    "\n",
    "## Q4\n",
    "Calculate the composition $(g(f(x)))$ of the following two functions, $f(x)$ and $g(x)$:\n",
    "$$f(x) = x + 5$$ \n",
    "\n",
    "$$g(x) = x^2 + 2x + 10$$"
   ]
  },
  {
   "cell_type": "markdown",
   "metadata": {},
   "source": [
    "*Your answer:*"
   ]
  }
 ],
 "metadata": {
  "kernelspec": {
   "display_name": "Python 3",
   "language": "python",
   "name": "python3"
  },
  "language_info": {
   "codemirror_mode": {
    "name": "ipython",
    "version": 3
   },
   "file_extension": ".py",
   "mimetype": "text/x-python",
   "name": "python",
   "nbconvert_exporter": "python",
   "pygments_lexer": "ipython3",
   "version": "3.7.3"
  },
  "varInspector": {
   "cols": {
    "lenName": 16,
    "lenType": 16,
    "lenVar": 40
   },
   "kernels_config": {
    "python": {
     "delete_cmd_postfix": "",
     "delete_cmd_prefix": "del ",
     "library": "var_list.py",
     "varRefreshCmd": "print(var_dic_list())"
    },
    "r": {
     "delete_cmd_postfix": ") ",
     "delete_cmd_prefix": "rm(",
     "library": "var_list.r",
     "varRefreshCmd": "cat(var_dic_list()) "
    }
   },
   "types_to_exclude": [
    "module",
    "function",
    "builtin_function_or_method",
    "instance",
    "_Feature"
   ],
   "window_display": false
  }
 },
 "nbformat": 4,
 "nbformat_minor": 2
}
